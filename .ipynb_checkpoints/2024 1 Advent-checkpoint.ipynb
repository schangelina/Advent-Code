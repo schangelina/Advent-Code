{
 "cells": [
  {
   "cell_type": "markdown",
   "id": "c58befa8-f3c1-435b-b794-50f524a5538f",
   "metadata": {},
   "source": [
    "## --- Day 1: Historian Hysteria ---"
   ]
  },
  {
   "cell_type": "markdown",
   "id": "28deafcb-d130-4a16-8adb-34d96fb92349",
   "metadata": {},
   "source": [
    "The Chief Historian is always present for the big Christmas sleigh launch, but nobody has seen him in months! Last anyone heard, he was visiting locations that are historically significant to the North Pole; a group of Senior Historians has asked you to accompany them as they check the places they think he was most likely to visit.\n",
    "\n",
    "As each location is checked, they will mark it on their list with a star. They figure the Chief Historian must be in one of the first fifty places they'll look, so in order to save Christmas, you need to help them get fifty stars on their list before Santa takes off on December 25th.\n",
    "\n",
    "Collect stars by solving puzzles. Two puzzles will be made available on each day in the Advent calendar; the second puzzle is unlocked when you complete the first. Each puzzle grants one star. Good luck!\n",
    "\n",
    "You haven't even left yet and the group of Elvish Senior Historians has already hit a problem: their list of locations to check is currently empty. Eventually, someone decides that the best place to check first would be the Chief Historian's office.\n",
    "\n",
    "Upon pouring into the office, everyone confirms that the Chief Historian is indeed nowhere to be found. Instead, the Elves discover an assortment of notes and lists of historically significant locations! This seems to be the planning the Chief Historian was doing before he left. Perhaps these notes can be used to determine which locations to search?\n",
    "\n",
    "Throughout the Chief's office, the historically significant locations are listed not by name but by a unique number called the location ID. To make sure they don't miss anything, The Historians split into two groups, each searching the office and trying to create their own complete list of location IDs.\n",
    "\n",
    "There's just one problem: by holding the two lists up side by side (your puzzle input), it quickly becomes clear that the lists aren't very similar. Maybe you can help The Historians reconcile their lists?\n",
    "\n",
    "For example:\n",
    "\n",
    "3,4,2,1,3,3 (right list)\n",
    "\n",
    "4,3,5,3,9,3 (left list)\n",
    "\n",
    "Maybe the lists are only off by a small amount! To find out, pair up the numbers and measure how far apart they are. Pair up the smallest number in the left list with the smallest number in the right list, then the second-smallest left number with the second-smallest right number, and so on.\n",
    "\n",
    "Within each pair, figure out how far apart the two numbers are; you'll need to add up all of those distances. For example, if you pair up a 3 from the left list with a 7 from the right list, the distance apart is 4; if you pair up a 9 with a 3, the distance apart is 6.\n",
    "\n",
    "In the example list above, the pairs and distances would be as follows:\n",
    "\n",
    "- The smallest number in the left list is 1, and the smallest number in the right list is 3. The distance between them is 2.\n",
    "- The second-smallest number in the left list is 2, and the second-smallest number in the right list is another 3. The distance between them is 1.\n",
    "- The third-smallest number in both lists is 3, so the distance between them is 0.\n",
    "- The next numbers to pair up are 3 and 4, a distance of 1.\n",
    "- The fifth-smallest numbers in each list are 3 and 5, a distance of 2.\n",
    "- Finally, the largest number in the left list is 4, while the largest number in the right list is 9; these are a distance 5 apart.\n",
    "\n",
    "To find the total distance between the left list and the right list, add up the distances between all of the pairs you found. In the example above, this is 2 + 1 + 0 + 1 + 2 + 5, a total distance of 11!\n",
    "\n",
    "Your actual left and right lists contain many location IDs. What is the total distance between your lists?"
   ]
  },
  {
   "cell_type": "code",
   "execution_count": 1,
   "id": "169d91a8-1fa5-42d0-b4a3-aa2db1d82202",
   "metadata": {},
   "outputs": [],
   "source": [
    "List1 = [3,4,2,1,3,3]\n",
    "List2 = [4,3,5,3,9,3]"
   ]
  },
  {
   "cell_type": "code",
   "execution_count": 2,
   "id": "fd4ed938-a804-47b6-b351-fd583c856b8b",
   "metadata": {},
   "outputs": [],
   "source": [
    "List1.sort()\n",
    "List2.sort()"
   ]
  },
  {
   "cell_type": "code",
   "execution_count": 3,
   "id": "329ed2d0-62ba-45e4-a423-dabdf99c4c75",
   "metadata": {},
   "outputs": [],
   "source": [
    "distances = []\n",
    "\n",
    "for i in range(len(List1)):\n",
    "    dist = List1[i] - List2[i]\n",
    "    distance = abs(dist)\n",
    "    distances.append(distance)\n",
    "    "
   ]
  },
  {
   "cell_type": "code",
   "execution_count": 4,
   "id": "0e1f57f8-9c16-4819-8e42-1a5c5a1c0ba4",
   "metadata": {},
   "outputs": [
    {
     "data": {
      "text/plain": [
       "[2, 1, 0, 1, 2, 5]"
      ]
     },
     "execution_count": 4,
     "metadata": {},
     "output_type": "execute_result"
    }
   ],
   "source": [
    "distances"
   ]
  },
  {
   "cell_type": "code",
   "execution_count": 5,
   "id": "42e8f2c7-5ff0-483a-ba00-3ade5a25e023",
   "metadata": {},
   "outputs": [],
   "source": [
    "tot_dist = sum(distances)"
   ]
  },
  {
   "cell_type": "code",
   "execution_count": 6,
   "id": "97a7e222-d95b-44be-86a7-affc63da322b",
   "metadata": {},
   "outputs": [
    {
     "data": {
      "text/plain": [
       "11"
      ]
     },
     "execution_count": 6,
     "metadata": {},
     "output_type": "execute_result"
    }
   ],
   "source": [
    "tot_dist"
   ]
  },
  {
   "cell_type": "code",
   "execution_count": 7,
   "id": "91dd9239-e94e-4439-b514-a312538c4fc3",
   "metadata": {},
   "outputs": [
    {
     "data": {
      "text/plain": [
       "'C:\\\\Users\\\\Angelina\\\\Documents\\\\Advent Code'"
      ]
     },
     "execution_count": 7,
     "metadata": {},
     "output_type": "execute_result"
    }
   ],
   "source": [
    "import os\n",
    "os.getcwd()"
   ]
  },
  {
   "cell_type": "code",
   "execution_count": 8,
   "id": "dbad7d49-6701-4f03-b57c-88cd20cd3570",
   "metadata": {},
   "outputs": [],
   "source": [
    "txt = open('C://Users//Angelina//Documents/Advent Code/2024 1 Input.txt')\n",
    "txt = txt.read()"
   ]
  },
  {
   "cell_type": "code",
   "execution_count": 9,
   "id": "aebf2607-baf5-42e8-bd05-7236847cc494",
   "metadata": {},
   "outputs": [
    {
     "data": {
      "text/plain": [
       "str"
      ]
     },
     "execution_count": 9,
     "metadata": {},
     "output_type": "execute_result"
    }
   ],
   "source": [
    "type(txt)"
   ]
  },
  {
   "cell_type": "code",
   "execution_count": 10,
   "id": "b995c4e9-586e-429b-8f19-dd0e9e7eb530",
   "metadata": {},
   "outputs": [],
   "source": [
    "import re\n",
    "coord = re.split(r'[\\n\\s]+',txt)\n",
    "#res = re.split(r'[;,\\s]+', s)"
   ]
  },
  {
   "cell_type": "code",
   "execution_count": 17,
   "id": "76da2395-a297-465e-a412-a0b6c6f7f0ea",
   "metadata": {},
   "outputs": [],
   "source": [
    "for i in range(len(coord)):\n",
    "    coord[i] = int(coord[i])"
   ]
  },
  {
   "cell_type": "code",
   "execution_count": 18,
   "id": "0c2fc9e4-515c-49d9-b310-842c750ea53e",
   "metadata": {},
   "outputs": [],
   "source": [
    "List_1 = []\n",
    "List_2 = []"
   ]
  },
  {
   "cell_type": "code",
   "execution_count": 19,
   "id": "ff9c01e7-cf33-4f08-bc60-6948652721cd",
   "metadata": {},
   "outputs": [],
   "source": [
    "for i in range(len(coord)):\n",
    "    if i % 2 == 0:\n",
    "        List_1.append(coord[i])\n",
    "    else:\n",
    "        List_2.append(coord[i])"
   ]
  },
  {
   "cell_type": "code",
   "execution_count": 23,
   "id": "c01f7f51-09ab-41a2-b1a0-ed57b1096f8a",
   "metadata": {},
   "outputs": [],
   "source": [
    "List_1.sort()\n",
    "List_2.sort()"
   ]
  },
  {
   "cell_type": "code",
   "execution_count": 24,
   "id": "722cc19b-19bc-4512-9e28-aaf2d2483f43",
   "metadata": {},
   "outputs": [],
   "source": [
    "def dist_finder(list1, list2):\n",
    "    \n",
    "    distances = []\n",
    "    \n",
    "    for i in range(len(list1)):\n",
    "        dist = list1[i] - list2[i]\n",
    "        distance = abs(dist)\n",
    "        distances.append(distance)\n",
    "    \n",
    "    tot_dist = sum(distances)\n",
    "    \n",
    "    return tot_dist"
   ]
  },
  {
   "cell_type": "code",
   "execution_count": 25,
   "id": "a23f9d25-9348-474f-8830-0203c4d0c22c",
   "metadata": {},
   "outputs": [],
   "source": [
    "Advent1 = dist_finder(List_1,List_2)"
   ]
  },
  {
   "cell_type": "code",
   "execution_count": 26,
   "id": "c98f3d81-f751-420d-98ee-0f03e6281203",
   "metadata": {},
   "outputs": [
    {
     "data": {
      "text/plain": [
       "1319616"
      ]
     },
     "execution_count": 26,
     "metadata": {},
     "output_type": "execute_result"
    }
   ],
   "source": [
    "Advent1"
   ]
  },
  {
   "cell_type": "markdown",
   "id": "44df5a8e-7721-4b90-b320-fd443fb54b02",
   "metadata": {},
   "source": [
    "## --- Part Two ---"
   ]
  },
  {
   "cell_type": "markdown",
   "id": "7465982d-ef21-4f40-80dc-2d95209830f6",
   "metadata": {},
   "source": [
    "Your analysis only confirmed what everyone feared: the two lists of location IDs are indeed very different.\n",
    "\n",
    "Or are they?\n",
    "\n",
    "The Historians can't agree on which group made the mistakes or how to read most of the Chief's handwriting, but in the commotion you notice an interesting detail: a lot of location IDs appear in both lists! Maybe the other numbers aren't location IDs at all but rather misinterpreted handwriting.\n",
    "\n",
    "This time, you'll need to figure out exactly how often each number from the left list appears in the right list. Calculate a total similarity score by adding up each number in the left list after multiplying it by the number of times that number appears in the right list.\n",
    "\n",
    "Here are the same example lists again:\n",
    "\n",
    "3, 4, 2, 1, 3, 3 (left list)\n",
    "\n",
    "4, 3, 5, 3, 9, 3 (right list)\n",
    "\n",
    "For these example lists, here is the process of finding the similarity score:\n",
    "\n",
    "- The first number in the left list is 3. It appears in the right list three times, so the similarity score increases by 3 * 3 = 9.\n",
    "- The second number in the left list is 4. It appears in the right list once, so the similarity score increases by 4 * 1 = 4.\n",
    "- The third number in the left list is 2. It does not appear in the right list, so the similarity score does not increase (2 * 0 = 0).\n",
    "- The fourth number, 1, also does not appear in the right list.\n",
    "- The fifth number, 3, appears in the right list three times; the similarity score increases by 9.\n",
    "- The last number, 3, appears in the right list three times; the similarity score again increases by 9.\n",
    "\n",
    "So, for these example lists, the similarity score at the end of this process is 31 (9 + 4 + 0 + 0 + 9 + 9).\n",
    "\n",
    "Once again consider your left and right lists. What is their similarity score?"
   ]
  },
  {
   "cell_type": "code",
   "execution_count": 30,
   "id": "64d39164-037f-4712-9f81-46905f98bf00",
   "metadata": {},
   "outputs": [],
   "source": [
    "count = [0] * len(List1)\n",
    "for j in range(len(List1)):\n",
    "    for i in range(len(List2)):\n",
    "        if List1[j] == List2[i]:\n",
    "            count[j] = count[j] + 1"
   ]
  },
  {
   "cell_type": "code",
   "execution_count": 31,
   "id": "b02fd669-d623-4f5d-87eb-46d3f2bf2721",
   "metadata": {},
   "outputs": [
    {
     "data": {
      "text/plain": [
       "[0, 0, 3, 3, 3, 1]"
      ]
     },
     "execution_count": 31,
     "metadata": {},
     "output_type": "execute_result"
    }
   ],
   "source": [
    "count"
   ]
  },
  {
   "cell_type": "code",
   "execution_count": 34,
   "id": "1af7bd7e-4928-4d3a-8917-06d890330d26",
   "metadata": {},
   "outputs": [],
   "source": [
    "score = [0] * len(List1)\n",
    "for i in range(len(List1)):\n",
    "    score[i] = count[i] * List1[i]"
   ]
  },
  {
   "cell_type": "code",
   "execution_count": 35,
   "id": "53e59adc-8c2e-4b46-a2d3-1461f78d412a",
   "metadata": {},
   "outputs": [
    {
     "data": {
      "text/plain": [
       "[0, 0, 9, 9, 9, 4]"
      ]
     },
     "execution_count": 35,
     "metadata": {},
     "output_type": "execute_result"
    }
   ],
   "source": [
    "score"
   ]
  },
  {
   "cell_type": "code",
   "execution_count": 36,
   "id": "9d858fe1-ec96-44f9-9a65-3ddda3357d4c",
   "metadata": {},
   "outputs": [],
   "source": [
    "tot_score = sum(score)"
   ]
  },
  {
   "cell_type": "code",
   "execution_count": 37,
   "id": "404d0da2-96b1-4ef4-9955-6f61950870b1",
   "metadata": {},
   "outputs": [
    {
     "data": {
      "text/plain": [
       "31"
      ]
     },
     "execution_count": 37,
     "metadata": {},
     "output_type": "execute_result"
    }
   ],
   "source": [
    "tot_score"
   ]
  },
  {
   "cell_type": "code",
   "execution_count": 38,
   "id": "68cab8e2-efaa-4a52-b7e0-0eb4cd56870d",
   "metadata": {},
   "outputs": [],
   "source": [
    "def sim_score(list1, list2):\n",
    "    \n",
    "    count = [0] * len(list1)\n",
    "    \n",
    "    for j in range(len(list1)):\n",
    "        for i in range(len(list2)):\n",
    "            if list1[j] == list2[i]:\n",
    "                count[j] = count[j] + 1\n",
    "    \n",
    "    score = [0] * len(list1)\n",
    "    \n",
    "    for i in range(len(list1)):\n",
    "        score[i] = count[i] * list1[i]\n",
    "    \n",
    "    tot_score = sum(score)\n",
    "    \n",
    "    return tot_score"
   ]
  },
  {
   "cell_type": "code",
   "execution_count": 39,
   "id": "5ad7cc2f-2448-4201-865b-8be28c41551f",
   "metadata": {},
   "outputs": [],
   "source": [
    "Advent1_Part2 = sim_score(List_1,List_2)"
   ]
  },
  {
   "cell_type": "code",
   "execution_count": 40,
   "id": "293abf30-1cc5-4438-a51b-6a0ef1105101",
   "metadata": {},
   "outputs": [
    {
     "data": {
      "text/plain": [
       "27267728"
      ]
     },
     "execution_count": 40,
     "metadata": {},
     "output_type": "execute_result"
    }
   ],
   "source": [
    "Advent1_Part2"
   ]
  },
  {
   "cell_type": "code",
   "execution_count": null,
   "id": "2a2c7e9f-e9cd-48b3-84b3-be08d0b4ec8a",
   "metadata": {},
   "outputs": [],
   "source": []
  }
 ],
 "metadata": {
  "kernelspec": {
   "display_name": "Python 3 (ipykernel)",
   "language": "python",
   "name": "python3"
  },
  "language_info": {
   "codemirror_mode": {
    "name": "ipython",
    "version": 3
   },
   "file_extension": ".py",
   "mimetype": "text/x-python",
   "name": "python",
   "nbconvert_exporter": "python",
   "pygments_lexer": "ipython3",
   "version": "3.9.13"
  }
 },
 "nbformat": 4,
 "nbformat_minor": 5
}
