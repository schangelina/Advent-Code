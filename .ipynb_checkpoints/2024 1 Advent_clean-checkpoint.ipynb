{
 "cells": [
  {
   "cell_type": "markdown",
   "id": "c58befa8-f3c1-435b-b794-50f524a5538f",
   "metadata": {
    "tags": []
   },
   "source": [
    "## --- Day 1: Historian Hysteria ---"
   ]
  },
  {
   "cell_type": "code",
   "execution_count": 2,
   "id": "169d91a8-1fa5-42d0-b4a3-aa2db1d82202",
   "metadata": {},
   "outputs": [],
   "source": [
    "List1 = [3,4,2,1,3,3]\n",
    "List2 = [4,3,5,3,9,3]"
   ]
  },
  {
   "cell_type": "code",
   "execution_count": 3,
   "id": "fd4ed938-a804-47b6-b351-fd583c856b8b",
   "metadata": {},
   "outputs": [],
   "source": [
    "List1.sort()\n",
    "List2.sort()"
   ]
  },
  {
   "cell_type": "code",
   "execution_count": 4,
   "id": "30712193-bef2-4117-8f50-4402cb0a0634",
   "metadata": {},
   "outputs": [],
   "source": [
    "def dist_finder(list1, list2):\n",
    "    \n",
    "    distances = []\n",
    "    \n",
    "    for i in range(len(list1)):\n",
    "        dist = list1[i] - list2[i]\n",
    "        distance = abs(dist)\n",
    "        distances.append(distance)\n",
    "    \n",
    "    tot_dist = sum(distances)\n",
    "    \n",
    "    return tot_dist"
   ]
  },
  {
   "cell_type": "code",
   "execution_count": 5,
   "id": "329ed2d0-62ba-45e4-a423-dabdf99c4c75",
   "metadata": {},
   "outputs": [
    {
     "data": {
      "text/plain": [
       "11"
      ]
     },
     "execution_count": 5,
     "metadata": {},
     "output_type": "execute_result"
    }
   ],
   "source": [
    "tot_dist = dist_finder(List1,List2)\n",
    "tot_dist"
   ]
  },
  {
   "cell_type": "code",
   "execution_count": 6,
   "id": "91dd9239-e94e-4439-b514-a312538c4fc3",
   "metadata": {},
   "outputs": [
    {
     "data": {
      "text/plain": [
       "'C:\\\\Users\\\\Angelina\\\\Documents\\\\Advent Code'"
      ]
     },
     "execution_count": 6,
     "metadata": {},
     "output_type": "execute_result"
    }
   ],
   "source": [
    "import os\n",
    "os.getcwd()"
   ]
  },
  {
   "cell_type": "code",
   "execution_count": 7,
   "id": "dbad7d49-6701-4f03-b57c-88cd20cd3570",
   "metadata": {},
   "outputs": [],
   "source": [
    "txt = open('C://Users//Angelina//Documents/Advent Code/2024 1 Input.txt')\n",
    "txt = txt.read()"
   ]
  },
  {
   "cell_type": "code",
   "execution_count": 9,
   "id": "b995c4e9-586e-429b-8f19-dd0e9e7eb530",
   "metadata": {},
   "outputs": [],
   "source": [
    "import re\n",
    "coord = re.split(r'[\\n\\s]+',txt)"
   ]
  },
  {
   "cell_type": "code",
   "execution_count": 10,
   "id": "76da2395-a297-465e-a412-a0b6c6f7f0ea",
   "metadata": {},
   "outputs": [],
   "source": [
    "for i in range(len(coord)):\n",
    "    coord[i] = int(coord[i])"
   ]
  },
  {
   "cell_type": "code",
   "execution_count": 11,
   "id": "0c2fc9e4-515c-49d9-b310-842c750ea53e",
   "metadata": {},
   "outputs": [],
   "source": [
    "List_1 = []\n",
    "List_2 = []"
   ]
  },
  {
   "cell_type": "code",
   "execution_count": 12,
   "id": "ff9c01e7-cf33-4f08-bc60-6948652721cd",
   "metadata": {},
   "outputs": [],
   "source": [
    "for i in range(len(coord)):\n",
    "    if i % 2 == 0:\n",
    "        List_1.append(coord[i])\n",
    "    else:\n",
    "        List_2.append(coord[i])"
   ]
  },
  {
   "cell_type": "code",
   "execution_count": 13,
   "id": "c01f7f51-09ab-41a2-b1a0-ed57b1096f8a",
   "metadata": {},
   "outputs": [],
   "source": [
    "List_1.sort()\n",
    "List_2.sort()"
   ]
  },
  {
   "cell_type": "code",
   "execution_count": 14,
   "id": "a23f9d25-9348-474f-8830-0203c4d0c22c",
   "metadata": {},
   "outputs": [
    {
     "data": {
      "text/plain": [
       "1319616"
      ]
     },
     "execution_count": 14,
     "metadata": {},
     "output_type": "execute_result"
    }
   ],
   "source": [
    "Advent1 = dist_finder(List_1,List_2)\n",
    "Advent1"
   ]
  },
  {
   "cell_type": "markdown",
   "id": "44df5a8e-7721-4b90-b320-fd443fb54b02",
   "metadata": {},
   "source": [
    "## --- Part Two ---"
   ]
  },
  {
   "cell_type": "code",
   "execution_count": 15,
   "id": "68cab8e2-efaa-4a52-b7e0-0eb4cd56870d",
   "metadata": {},
   "outputs": [],
   "source": [
    "def sim_score(list1, list2):\n",
    "    \n",
    "    count = [0] * len(list1)\n",
    "    \n",
    "    for j in range(len(list1)):\n",
    "        for i in range(len(list2)):\n",
    "            if list1[j] == list2[i]:\n",
    "                count[j] = count[j] + 1\n",
    "    \n",
    "    score = [0] * len(list1)\n",
    "    \n",
    "    for i in range(len(list1)):\n",
    "        score[i] = count[i] * list1[i]\n",
    "    \n",
    "    tot_score = sum(score)\n",
    "    \n",
    "    return tot_score"
   ]
  },
  {
   "cell_type": "code",
   "execution_count": 16,
   "id": "7b4bb7a9-0866-46f3-9c47-438cba59051f",
   "metadata": {},
   "outputs": [
    {
     "data": {
      "text/plain": [
       "31"
      ]
     },
     "execution_count": 16,
     "metadata": {},
     "output_type": "execute_result"
    }
   ],
   "source": [
    "tot_score = sim_score(List1,List2)\n",
    "tot_score"
   ]
  },
  {
   "cell_type": "code",
   "execution_count": 19,
   "id": "5ad7cc2f-2448-4201-865b-8be28c41551f",
   "metadata": {},
   "outputs": [
    {
     "data": {
      "text/plain": [
       "27267728"
      ]
     },
     "execution_count": 19,
     "metadata": {},
     "output_type": "execute_result"
    }
   ],
   "source": [
    "Advent1_Part2 = sim_score(List_1, List_2)\n",
    "Advent1_Part2"
   ]
  },
  {
   "cell_type": "code",
   "execution_count": null,
   "id": "293abf30-1cc5-4438-a51b-6a0ef1105101",
   "metadata": {},
   "outputs": [],
   "source": []
  }
 ],
 "metadata": {
  "kernelspec": {
   "display_name": "Python 3 (ipykernel)",
   "language": "python",
   "name": "python3"
  },
  "language_info": {
   "codemirror_mode": {
    "name": "ipython",
    "version": 3
   },
   "file_extension": ".py",
   "mimetype": "text/x-python",
   "name": "python",
   "nbconvert_exporter": "python",
   "pygments_lexer": "ipython3",
   "version": "3.9.13"
  }
 },
 "nbformat": 4,
 "nbformat_minor": 5
}
