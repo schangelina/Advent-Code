{
 "cells": [
  {
   "cell_type": "code",
   "execution_count": 1,
   "id": "d0e619bf-79aa-4bd3-a0c7-0ba42a55ff7b",
   "metadata": {},
   "outputs": [],
   "source": [
    "def parse_file(filename):\n",
    "    with open(filename) as file:\n",
    "        lines = file.readlines()\n",
    "    cards = []\n",
    "    for line in lines:\n",
    "        card = []\n",
    "        contents = line.split(\":\")[1].strip(\" \").strip(\"\\n\").split(\"|\")\n",
    "        for card in contents:\n",
    "            nums = card.split(\",\")\n",
    "            for num in nums:\n",
    "                num_stripped_sep = num.strip().split(\" \")\n",
    "                number = int(num_stripped_sep[0])\n",
    "            card.append(number)\n",
    "        cards.append(card)\n",
    "    return cards"
   ]
  },
  {
   "cell_type": "code",
   "execution_count": 2,
   "id": "ed27606f-6edd-454c-a282-aa27a9015832",
   "metadata": {},
   "outputs": [],
   "source": [
    "filename = 'C:\\\\Users\\\\Angelina\\\\Documents\\\\Advent Code\\Input4.txt'"
   ]
  },
  {
   "cell_type": "code",
   "execution_count": 3,
   "id": "2d90bbc3-3cf5-46da-92f5-2746e268e10b",
   "metadata": {},
   "outputs": [],
   "source": [
    "def parse_file(filename):\n",
    "    with open(filename) as file:\n",
    "        lines = file.readlines()\n",
    "    cards = []\n",
    "    for line in lines:\n",
    "        numbers = line.split(\":\")[1].strip().split(\"|\")\n",
    "        cards.append(numbers)\n",
    "        winners = []\n",
    "        picks = []\n",
    "        for card in cards:\n",
    "            winners.append([int(num) for num in card[0].strip().split()])\n",
    "            picks.append([int(num) for num in card[1].strip().split()])\n",
    "    return winners, picks"
   ]
  },
  {
   "cell_type": "code",
   "execution_count": 4,
   "id": "ef907765-afef-44cb-a90c-12a0177be3d3",
   "metadata": {},
   "outputs": [],
   "source": [
    "winners = parse_file(filename)[0]\n",
    "picks = parse_file(filename)[1]"
   ]
  },
  {
   "cell_type": "code",
   "execution_count": 5,
   "id": "08360e42-9295-4f9a-82b9-cd2345ec4805",
   "metadata": {},
   "outputs": [],
   "source": [
    "num_cards = len(winners)"
   ]
  },
  {
   "cell_type": "code",
   "execution_count": 6,
   "id": "d0af98bc-8276-493d-962e-3b795d8c2104",
   "metadata": {},
   "outputs": [],
   "source": [
    "wins = []\n",
    "for i in range(num_cards):\n",
    "    points = 0\n",
    "    for pick in picks[i]:\n",
    "        if pick in winners[i]:\n",
    "            if points == 0:\n",
    "                points = 1\n",
    "            else:\n",
    "                points = points * 2\n",
    "    wins.append(points)"
   ]
  },
  {
   "cell_type": "code",
   "execution_count": 7,
   "id": "cd623581-a95c-4e70-9064-8f9bb8727ef4",
   "metadata": {},
   "outputs": [
    {
     "data": {
      "text/plain": [
       "20855"
      ]
     },
     "execution_count": 7,
     "metadata": {},
     "output_type": "execute_result"
    }
   ],
   "source": [
    "result = sum(wins)\n",
    "result"
   ]
  },
  {
   "cell_type": "code",
   "execution_count": 8,
   "id": "f049e82e-9c4f-4c93-b5c0-30f4328b3ab6",
   "metadata": {},
   "outputs": [],
   "source": [
    "counts = []\n",
    "for i in range(num_cards):\n",
    "    count = 0\n",
    "    for pick in picks[i]:\n",
    "        if pick in winners[i]:\n",
    "            count += 1\n",
    "    counts.append(count)"
   ]
  },
  {
   "cell_type": "code",
   "execution_count": 9,
   "id": "5f59acda-9107-4b74-84da-26269e3340d0",
   "metadata": {},
   "outputs": [],
   "source": [
    "card_nums = [1] * num_cards"
   ]
  },
  {
   "cell_type": "code",
   "execution_count": 10,
   "id": "98862f39-866c-4eb3-bc1e-757323ad1e1f",
   "metadata": {},
   "outputs": [],
   "source": [
    "for i in range(len(card_nums)):\n",
    "    win = counts[i]\n",
    "    card = card_nums[i]\n",
    "    # if win == 0:\n",
    "    #     pass\n",
    "    # if win != 0:\n",
    "        #add_cards = [1] * counts[i]\n",
    "    for j in range(1,win+1):\n",
    "        for k in range(1,card+1):\n",
    "            if i + j < len(card_nums):\n",
    "                card_nums[i+j] += 1"
   ]
  },
  {
   "cell_type": "code",
   "execution_count": 12,
   "id": "71b028e2-9d13-41b2-afec-4fbf7058150f",
   "metadata": {},
   "outputs": [
    {
     "data": {
      "text/plain": [
       "5489600"
      ]
     },
     "execution_count": 12,
     "metadata": {},
     "output_type": "execute_result"
    }
   ],
   "source": [
    "sum(card_nums)"
   ]
  },
  {
   "cell_type": "code",
   "execution_count": null,
   "id": "f625d471-a655-4c0a-997c-3f9f60fad91b",
   "metadata": {},
   "outputs": [],
   "source": []
  }
 ],
 "metadata": {
  "kernelspec": {
   "display_name": "Python 3 (ipykernel)",
   "language": "python",
   "name": "python3"
  },
  "language_info": {
   "codemirror_mode": {
    "name": "ipython",
    "version": 3
   },
   "file_extension": ".py",
   "mimetype": "text/x-python",
   "name": "python",
   "nbconvert_exporter": "python",
   "pygments_lexer": "ipython3",
   "version": "3.9.13"
  }
 },
 "nbformat": 4,
 "nbformat_minor": 5
}
