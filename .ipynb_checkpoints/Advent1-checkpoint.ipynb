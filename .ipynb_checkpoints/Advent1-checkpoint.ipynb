{
 "cells": [
  {
   "cell_type": "markdown",
   "id": "80126657-1f2f-4bec-8a3c-be1a58fee5a4",
   "metadata": {
    "tags": []
   },
   "source": [
    "Game 1: 3 blue, 4 red; 1 red, 2 green, 6 blue; 2 green\n",
    "Game 2: 1 blue, 2 green; 3 green, 4 blue, 1 red; 1 green, 1 blue\n",
    "Game 3: 8 green, 6 blue, 20 red; 5 blue, 4 red, 13 green; 5 green, 1 red\n",
    "Game 4: 1 green, 3 red, 6 blue; 3 green, 6 red; 3 green, 15 blue, 14 red\n",
    "Game 5: 6 red, 1 blue, 3 green; 2 blue, 1 red, 2 green"
   ]
  },
  {
   "cell_type": "markdown",
   "id": "042570da-ead7-43c2-baa7-9ebb76bc0875",
   "metadata": {},
   "source": [
    "12 red cubes, 13 green cubes, and 14 blue cubes\n",
    "games 1, 2, and 5\n",
    "Result 8"
   ]
  },
  {
   "cell_type": "markdown",
   "id": "bc8e56ac-bee8-4be6-adee-c017f5bd2fb0",
   "metadata": {},
   "source": [
    "12 red cubes, 13 green cubes, and 14 blue cubes\n",
    "3 out, 4 out\n",
    "games 1, 2, and 5\n",
    "Result 8"
   ]
  },
  {
   "cell_type": "code",
   "execution_count": null,
   "id": "2328619d-28a5-42d5-9775-7f8ee558fe62",
   "metadata": {},
   "outputs": [],
   "source": [
    "import os\n",
    "os.getcwd()"
   ]
  },
  {
   "cell_type": "code",
   "execution_count": null,
   "id": "22d4dd2a-1f85-447e-b298-32279a6dff2b",
   "metadata": {},
   "outputs": [],
   "source": [
    "txt = open('C:\\\\Users\\\\Angelina\\\\Desktop\\Advent1.txt')\n",
    "txt = txt.read()\n",
    "print(txt)"
   ]
  },
  {
   "cell_type": "code",
   "execution_count": null,
   "id": "96e9cc32-8192-4f0b-8018-af32a80b484b",
   "metadata": {},
   "outputs": [],
   "source": [
    "type(txt)"
   ]
  },
  {
   "cell_type": "code",
   "execution_count": null,
   "id": "2fb5eca6-c549-4ee0-816a-1d509a411250",
   "metadata": {},
   "outputs": [],
   "source": [
    "games = txt.split(\"\\n\")\n",
    "print(games)\n",
    "type(games)"
   ]
  },
  {
   "cell_type": "code",
   "execution_count": null,
   "id": "999ab493-1e52-4a4b-898d-0e9973840d83",
   "metadata": {},
   "outputs": [],
   "source": [
    "g1 = games[0]\n",
    "type(g1)"
   ]
  },
  {
   "cell_type": "code",
   "execution_count": null,
   "id": "b721bf2b-86fa-4851-817c-74382a37ab28",
   "metadata": {},
   "outputs": [],
   "source": [
    "g1 = g1.split(\":\")\n",
    "print(g1)\n",
    "type(g1)"
   ]
  },
  {
   "cell_type": "code",
   "execution_count": 1,
   "id": "92d09332-2716-4139-8d0f-240b5aeaa630",
   "metadata": {},
   "outputs": [],
   "source": [
    "def parse_file(filename):\n",
    "    with open(filename) as file:\n",
    "        lines = file.readlines()\n",
    "    games = []\n",
    "    for line in lines:\n",
    "        game = []\n",
    "        contents = line.split(\":\")[1].strip(\" \").strip(\"\\n\").split(\";\")\n",
    "        for draw in contents:\n",
    "            curr_draw = {}\n",
    "            elements = draw.split(\",\")\n",
    "            for element in elements:\n",
    "                element_stripped_sep = element.strip().split(\" \")\n",
    "                amount = int(element_stripped_sep[0])\n",
    "                color = element_stripped_sep[1]\n",
    "                curr_draw.update({color: amount})\n",
    "            game.append(curr_draw)\n",
    "        games.append(game)\n",
    "    return games"
   ]
  },
  {
   "cell_type": "code",
   "execution_count": 2,
   "id": "a2f011bb-d77f-41f2-820e-a34f96767a5b",
   "metadata": {},
   "outputs": [],
   "source": [
    "filename = 'C:\\\\Users\\\\Angelina\\\\Documents\\\\Advent Code\\Input1.txt'\n",
    "games = parse_file(filename)"
   ]
  },
  {
   "cell_type": "code",
   "execution_count": 3,
   "id": "31a6b97d-350c-43c8-b796-77c8a0e7cf6b",
   "metadata": {},
   "outputs": [],
   "source": [
    "def color_max(game):\n",
    "\n",
    "    red = 0\n",
    "    green = 0\n",
    "    blue = 0\n",
    "\n",
    "    #for game in games\n",
    "    for set in game:\n",
    "        if \"red\" in set:\n",
    "            num_red = set[\"red\"]\n",
    "            if num_red > red:\n",
    "                red = num_red\n",
    "        if \"green\" in set:\n",
    "            num_green = set[\"green\"]\n",
    "            if num_green > green:\n",
    "                green = num_green\n",
    "        if \"blue\" in set:\n",
    "            num_blue = set [\"blue\"]\n",
    "            if num_blue > blue:\n",
    "                blue = num_blue\n",
    "    return [red, green, blue]"
   ]
  },
  {
   "cell_type": "code",
   "execution_count": 4,
   "id": "a5527704-5184-4b44-b084-8eae9c94e8ae",
   "metadata": {},
   "outputs": [],
   "source": [
    "outcomes = []\n",
    "for game in games:\n",
    "    outcomes.append(color_max(game))"
   ]
  },
  {
   "cell_type": "code",
   "execution_count": 5,
   "id": "926c6416-9f74-4505-acda-3c6acfe2ac73",
   "metadata": {
    "tags": []
   },
   "outputs": [
    {
     "data": {
      "text/plain": [
       "[[4, 7, 9],\n",
       " [3, 8, 3],\n",
       " [7, 15, 12],\n",
       " [12, 11, 4],\n",
       " [11, 10, 15],\n",
       " [19, 6, 9],\n",
       " [11, 6, 13],\n",
       " [6, 20, 2],\n",
       " [6, 9, 1],\n",
       " [9, 20, 18],\n",
       " [9, 15, 8],\n",
       " [4, 3, 9],\n",
       " [1, 14, 1],\n",
       " [7, 19, 14],\n",
       " [12, 18, 18],\n",
       " [12, 19, 14],\n",
       " [15, 3, 9],\n",
       " [17, 7, 7],\n",
       " [14, 18, 16],\n",
       " [7, 11, 1],\n",
       " [10, 6, 20],\n",
       " [16, 7, 11],\n",
       " [8, 5, 17],\n",
       " [15, 15, 3],\n",
       " [11, 15, 20],\n",
       " [6, 10, 3],\n",
       " [4, 16, 6],\n",
       " [14, 9, 2],\n",
       " [12, 2, 13],\n",
       " [3, 10, 12],\n",
       " [8, 1, 16],\n",
       " [10, 16, 10],\n",
       " [1, 3, 15],\n",
       " [6, 14, 7],\n",
       " [11, 2, 9],\n",
       " [5, 3, 14],\n",
       " [4, 16, 4],\n",
       " [9, 9, 9],\n",
       " [7, 17, 4],\n",
       " [4, 4, 11],\n",
       " [14, 10, 13],\n",
       " [8, 11, 5],\n",
       " [17, 7, 17],\n",
       " [6, 7, 5],\n",
       " [9, 13, 3],\n",
       " [7, 17, 5],\n",
       " [1, 1, 17],\n",
       " [1, 9, 10],\n",
       " [9, 20, 2],\n",
       " [4, 2, 3],\n",
       " [16, 10, 6],\n",
       " [5, 15, 5],\n",
       " [11, 5, 4],\n",
       " [5, 7, 16],\n",
       " [1, 16, 19],\n",
       " [1, 10, 4],\n",
       " [3, 7, 15],\n",
       " [17, 16, 1],\n",
       " [2, 12, 14],\n",
       " [1, 8, 7],\n",
       " [5, 14, 2],\n",
       " [10, 2, 1],\n",
       " [10, 10, 6],\n",
       " [6, 16, 17],\n",
       " [2, 19, 8],\n",
       " [18, 16, 9],\n",
       " [8, 5, 2],\n",
       " [16, 1, 5],\n",
       " [10, 14, 2],\n",
       " [12, 11, 1],\n",
       " [13, 17, 10],\n",
       " [4, 3, 3],\n",
       " [11, 6, 10],\n",
       " [1, 11, 17],\n",
       " [11, 11, 3],\n",
       " [12, 15, 3],\n",
       " [11, 15, 13],\n",
       " [7, 4, 13],\n",
       " [20, 8, 14],\n",
       " [15, 3, 3],\n",
       " [4, 8, 11],\n",
       " [2, 8, 9],\n",
       " [14, 2, 15],\n",
       " [20, 11, 18],\n",
       " [5, 13, 3],\n",
       " [10, 11, 7],\n",
       " [14, 11, 5],\n",
       " [11, 3, 4],\n",
       " [7, 3, 13],\n",
       " [11, 8, 5],\n",
       " [4, 4, 2],\n",
       " [12, 10, 13],\n",
       " [6, 7, 15],\n",
       " [6, 2, 15],\n",
       " [12, 17, 10],\n",
       " [8, 12, 3],\n",
       " [7, 14, 18],\n",
       " [13, 4, 12],\n",
       " [11, 5, 9],\n",
       " [1, 12, 16]]"
      ]
     },
     "execution_count": 5,
     "metadata": {},
     "output_type": "execute_result"
    }
   ],
   "source": [
    "outcomes"
   ]
  },
  {
   "cell_type": "code",
   "execution_count": 6,
   "id": "484a9e57-4764-4aba-854a-050f1b54911a",
   "metadata": {},
   "outputs": [],
   "source": [
    "max_cubes = [12,13,14]"
   ]
  },
  {
   "cell_type": "code",
   "execution_count": 7,
   "id": "e7312ac1-a241-4f8d-ad3c-92184b914031",
   "metadata": {},
   "outputs": [],
   "source": [
    "num = len(outcomes)\n",
    "all_games = list(range(1,num+1))"
   ]
  },
  {
   "cell_type": "code",
   "execution_count": 8,
   "id": "e86efe9d-be51-4a97-bf1d-a8f5253224fd",
   "metadata": {},
   "outputs": [],
   "source": [
    "for i in range(num):\n",
    "    for j in range(3):\n",
    "        if outcomes[i][j] > max_cubes[j]:\n",
    "            all_games.remove(i+1)\n",
    "            break"
   ]
  },
  {
   "cell_type": "code",
   "execution_count": 10,
   "id": "23edc3e1-6542-4a0c-a38d-3cdf355b7d48",
   "metadata": {},
   "outputs": [
    {
     "data": {
      "text/plain": [
       "2285"
      ]
     },
     "execution_count": 10,
     "metadata": {},
     "output_type": "execute_result"
    }
   ],
   "source": [
    "result = sum(all_games)\n",
    "result"
   ]
  },
  {
   "cell_type": "code",
   "execution_count": 11,
   "id": "a5deb5a9-b22a-47a6-ae95-fc472ebe2f74",
   "metadata": {},
   "outputs": [],
   "source": [
    "import numpy as np"
   ]
  },
  {
   "cell_type": "code",
   "execution_count": 15,
   "id": "66f8aa09-ff1f-4547-95b6-309cba5218a5",
   "metadata": {},
   "outputs": [],
   "source": [
    "mult = []\n",
    "for i in range(num):\n",
    "    mul = np.prod(outcomes[i])\n",
    "    mult.append(mul)"
   ]
  },
  {
   "cell_type": "code",
   "execution_count": 16,
   "id": "9ed8835a-a6d4-4bd5-b9c2-8a9c780ea475",
   "metadata": {},
   "outputs": [
    {
     "data": {
      "text/plain": [
       "[252,\n",
       " 72,\n",
       " 1260,\n",
       " 528,\n",
       " 1650,\n",
       " 1026,\n",
       " 858,\n",
       " 240,\n",
       " 54,\n",
       " 3240,\n",
       " 1080,\n",
       " 108,\n",
       " 14,\n",
       " 1862,\n",
       " 3888,\n",
       " 3192,\n",
       " 405,\n",
       " 833,\n",
       " 4032,\n",
       " 77,\n",
       " 1200,\n",
       " 1232,\n",
       " 680,\n",
       " 675,\n",
       " 3300,\n",
       " 180,\n",
       " 384,\n",
       " 252,\n",
       " 312,\n",
       " 360,\n",
       " 128,\n",
       " 1600,\n",
       " 45,\n",
       " 588,\n",
       " 198,\n",
       " 210,\n",
       " 256,\n",
       " 729,\n",
       " 476,\n",
       " 176,\n",
       " 1820,\n",
       " 440,\n",
       " 2023,\n",
       " 210,\n",
       " 351,\n",
       " 595,\n",
       " 17,\n",
       " 90,\n",
       " 360,\n",
       " 24,\n",
       " 960,\n",
       " 375,\n",
       " 220,\n",
       " 560,\n",
       " 304,\n",
       " 40,\n",
       " 315,\n",
       " 272,\n",
       " 336,\n",
       " 56,\n",
       " 140,\n",
       " 20,\n",
       " 600,\n",
       " 1632,\n",
       " 304,\n",
       " 2592,\n",
       " 80,\n",
       " 80,\n",
       " 280,\n",
       " 132,\n",
       " 2210,\n",
       " 36,\n",
       " 660,\n",
       " 187,\n",
       " 363,\n",
       " 540,\n",
       " 2145,\n",
       " 364,\n",
       " 2240,\n",
       " 135,\n",
       " 352,\n",
       " 144,\n",
       " 420,\n",
       " 3960,\n",
       " 195,\n",
       " 770,\n",
       " 770,\n",
       " 132,\n",
       " 273,\n",
       " 440,\n",
       " 32,\n",
       " 1560,\n",
       " 630,\n",
       " 180,\n",
       " 2040,\n",
       " 288,\n",
       " 1764,\n",
       " 624,\n",
       " 495,\n",
       " 192]"
      ]
     },
     "execution_count": 16,
     "metadata": {},
     "output_type": "execute_result"
    }
   ],
   "source": [
    "mult"
   ]
  },
  {
   "cell_type": "code",
   "execution_count": 17,
   "id": "8c879512-507b-41c7-851a-a5d484fd4e1b",
   "metadata": {},
   "outputs": [
    {
     "data": {
      "text/plain": [
       "77021"
      ]
     },
     "execution_count": 17,
     "metadata": {},
     "output_type": "execute_result"
    }
   ],
   "source": [
    "result2 = sum(mult)\n",
    "result2"
   ]
  },
  {
   "cell_type": "code",
   "execution_count": null,
   "id": "12e25247-5844-4123-a3bb-37d85f701af6",
   "metadata": {},
   "outputs": [],
   "source": []
  }
 ],
 "metadata": {
  "kernelspec": {
   "display_name": "Python 3 (ipykernel)",
   "language": "python",
   "name": "python3"
  },
  "language_info": {
   "codemirror_mode": {
    "name": "ipython",
    "version": 3
   },
   "file_extension": ".py",
   "mimetype": "text/x-python",
   "name": "python",
   "nbconvert_exporter": "python",
   "pygments_lexer": "ipython3",
   "version": "3.9.13"
  }
 },
 "nbformat": 4,
 "nbformat_minor": 5
}
